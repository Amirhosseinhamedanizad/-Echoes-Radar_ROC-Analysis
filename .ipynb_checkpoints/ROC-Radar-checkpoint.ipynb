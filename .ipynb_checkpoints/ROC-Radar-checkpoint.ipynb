{
 "cells": [
  {
   "cell_type": "code",
   "execution_count": 1,
   "id": "cee80086",
   "metadata": {},
   "outputs": [],
   "source": [
    "# Data manipulation and analysis\n",
    "import pandas as pd\n",
    "import numpy as np\n",
    "\n",
    "# Data visualization\n",
    "import matplotlib.pyplot as plt\n",
    "import seaborn as sns\n",
    "\n",
    "# Machine learning\n",
    "from sklearn.model_selection import train_test_split\n",
    "from sklearn.preprocessing import LabelEncoder\n",
    "from sklearn.metrics import roc_curve, roc_auc_score, auc\n",
    "from sklearn.model_selection import cross_val_score\n",
    "from sklearn.model_selection import StratifiedKFold\n",
    "\n",
    "# Choose your classification algorithm(s)\n",
    "from sklearn.linear_model import LogisticRegression\n",
    "from sklearn.tree import DecisionTreeClassifier\n",
    "from sklearn.ensemble import RandomForestClassifier\n",
    "from sklearn.svm import SVC\n",
    "\n",
    "# Ignore warnings\n",
    "import warnings\n",
    "warnings.filterwarnings('ignore')\n",
    "\n",
    "# Set a seed for reproducibility\n",
    "seed = 42\n"
   ]
  },
  {
   "cell_type": "code",
   "execution_count": 3,
   "id": "0c451a2c",
   "metadata": {},
   "outputs": [
    {
     "name": "stdout",
     "output_type": "stream",
     "text": [
      "   Unnamed: 0  feature1  feature3  feature4  feature5  feature6  feature7  \\\n",
      "0           0         1   0.99539  -0.05889   0.85243   0.02306   0.83398   \n",
      "1           1         1   1.00000  -0.18829   0.93035  -0.36156  -0.10868   \n",
      "2           2         1   1.00000  -0.03365   1.00000   0.00485   1.00000   \n",
      "3           3         1   1.00000  -0.45161   1.00000   1.00000   0.71216   \n",
      "4           4         1   1.00000  -0.02401   0.94140   0.06531   0.92106   \n",
      "\n",
      "   feature8  feature9  feature10  ...  feature27  feature28  feature29  \\\n",
      "0  -0.37708   1.00000    0.03760  ...    0.41078   -0.46168    0.21266   \n",
      "1  -0.93597   1.00000   -0.04549  ...   -0.20468   -0.18401   -0.19040   \n",
      "2  -0.12062   0.88965    0.01198  ...    0.58984   -0.22145    0.43100   \n",
      "3  -1.00000   0.00000    0.00000  ...    0.51613    1.00000    1.00000   \n",
      "4  -0.23255   0.77152   -0.16399  ...    0.13290   -0.53206    0.02431   \n",
      "\n",
      "   feature30  feature31  feature32  feature33  feature34  label  feature2  \n",
      "0   -0.34090    0.42267   -0.54487    0.18641   -0.45300      g         0  \n",
      "1   -0.11593   -0.16626   -0.06288   -0.13738   -0.02447      b         0  \n",
      "2   -0.17365    0.60436   -0.24180    0.56045   -0.38238      g         0  \n",
      "3   -0.20099    0.25682    1.00000   -0.32382    1.00000      b         0  \n",
      "4   -0.62197   -0.05707   -0.59573   -0.04608   -0.65697      g         0  \n",
      "\n",
      "[5 rows x 36 columns]\n"
     ]
    }
   ],
   "source": [
    "# Load the original data\n",
    "original_data_path = 'original_data.csv'  \n",
    "df_original = pd.read_csv(original_data_path)\n",
    "\n",
    "print(df_original.head())\n"
   ]
  },
  {
   "cell_type": "code",
   "execution_count": 4,
   "id": "6dd3797c",
   "metadata": {
    "scrolled": true
   },
   "outputs": [
    {
     "name": "stdout",
     "output_type": "stream",
     "text": [
      "Missing Values:\n",
      " Unnamed: 0    0\n",
      "feature1      0\n",
      "feature3      0\n",
      "feature4      0\n",
      "feature5      0\n",
      "feature6      0\n",
      "feature7      0\n",
      "feature8      0\n",
      "feature9      0\n",
      "feature10     0\n",
      "feature11     0\n",
      "feature12     0\n",
      "feature13     0\n",
      "feature14     0\n",
      "feature15     0\n",
      "feature16     0\n",
      "feature17     0\n",
      "feature18     0\n",
      "feature19     0\n",
      "feature20     0\n",
      "feature21     0\n",
      "feature22     0\n",
      "feature23     0\n",
      "feature24     0\n",
      "feature25     0\n",
      "feature26     0\n",
      "feature27     0\n",
      "feature28     0\n",
      "feature29     0\n",
      "feature30     0\n",
      "feature31     0\n",
      "feature32     0\n",
      "feature33     0\n",
      "feature34     0\n",
      "label         0\n",
      "feature2      0\n",
      "dtype: int64\n",
      "\n",
      "Updated Dataframe:\n",
      "    Unnamed: 0  feature1  feature3  feature4  feature5  feature6  feature7  \\\n",
      "0           0         1   0.99539  -0.05889   0.85243   0.02306   0.83398   \n",
      "1           1         1   1.00000  -0.18829   0.93035  -0.36156  -0.10868   \n",
      "2           2         1   1.00000  -0.03365   1.00000   0.00485   1.00000   \n",
      "3           3         1   1.00000  -0.45161   1.00000   1.00000   0.71216   \n",
      "4           4         1   1.00000  -0.02401   0.94140   0.06531   0.92106   \n",
      "\n",
      "   feature8  feature9  feature10  ...  feature27  feature28  feature29  \\\n",
      "0  -0.37708   1.00000    0.03760  ...    0.41078   -0.46168    0.21266   \n",
      "1  -0.93597   1.00000   -0.04549  ...   -0.20468   -0.18401   -0.19040   \n",
      "2  -0.12062   0.88965    0.01198  ...    0.58984   -0.22145    0.43100   \n",
      "3  -1.00000   0.00000    0.00000  ...    0.51613    1.00000    1.00000   \n",
      "4  -0.23255   0.77152   -0.16399  ...    0.13290   -0.53206    0.02431   \n",
      "\n",
      "   feature30  feature31  feature32  feature33  feature34  label  feature2  \n",
      "0   -0.34090    0.42267   -0.54487    0.18641   -0.45300      1         0  \n",
      "1   -0.11593   -0.16626   -0.06288   -0.13738   -0.02447      0         0  \n",
      "2   -0.17365    0.60436   -0.24180    0.56045   -0.38238      1         0  \n",
      "3   -0.20099    0.25682    1.00000   -0.32382    1.00000      0         0  \n",
      "4   -0.62197   -0.05707   -0.59573   -0.04608   -0.65697      1         0  \n",
      "\n",
      "[5 rows x 36 columns]\n"
     ]
    }
   ],
   "source": [
    "#Data Preprocessing\n",
    "# Check for missing values\n",
    "missing_values = df_original.isnull().sum()\n",
    "print(\"Missing Values:\\n\", missing_values)\n",
    "\n",
    "# Convert categorical labels to numerical values\n",
    "df_original['label'] = df_original['label'].map({'g': 1, 'b': 0})\n",
    "\n",
    "# Display the first few rows of the updated dataframe\n",
    "print(\"\\nUpdated Dataframe:\\n\", df_original.head())\n"
   ]
  },
  {
   "cell_type": "code",
   "execution_count": 5,
   "id": "35b48532",
   "metadata": {},
   "outputs": [
    {
     "data": {
      "image/png": "[encoded data removed]",
      "text/plain": [
       "<Figure size 600x400 with 1 Axes>"
      ]
     },
     "metadata": {},
     "output_type": "display_data"
    },
    {
     "data": {
      "image/png": "[encoded data removed]",
      "text/plain": [
       "<Figure size 1200x800 with 1 Axes>"
      ]
     },
     "metadata": {},
     "output_type": "display_data"
    }
   ],
   "source": [
    "#Exploratory Data Analysis (EDA)\n",
    "# Set the style for seaborn\n",
    "sns.set(style=\"whitegrid\")\n",
    "\n",
    "# Distribution of labels\n",
    "plt.figure(figsize=(6, 4))\n",
    "sns.countplot(x='label', data=df_original)\n",
    "plt.title('Distribution of Labels')\n",
    "plt.show()\n",
    "\n",
    "# Basic statistics of features\n",
    "features = df_original.drop(['Unnamed: 0', 'label', 'feature2'], axis=1)  # Exclude non-feature columns\n",
    "plt.figure(figsize=(12, 8))\n",
    "sns.boxplot(data=features)\n",
    "plt.title('Boxplot of Features')\n",
    "plt.xticks(rotation=90)\n",
    "plt.show()\n"
   ]
  },
  {
   "cell_type": "code",
   "execution_count": 7,
   "id": "cab7d5cc",
   "metadata": {},
   "outputs": [
    {
     "name": "stdout",
     "output_type": "stream",
     "text": [
      "   Unnamed: 0  feature1  feature3  feature4  feature5  feature6  feature7  \\\n",
      "0           0         1  0.712372 -0.234257  0.484208 -0.201735  0.577059   \n",
      "1           1         1  0.721648 -0.527811  0.634308 -1.037587 -1.339106   \n",
      "2           2         1  0.721648 -0.176998  0.768477 -0.241309  0.914531   \n",
      "3           3         1  0.721648 -1.125172  0.768477  1.921340  0.329433   \n",
      "4           4         1  0.721648 -0.155129  0.655594 -0.109918  0.754068   \n",
      "\n",
      "   feature8  feature9  feature10  ...  feature28  feature29  feature30  \\\n",
      "0 -0.954679  0.964074  -0.297510  ...  -0.713971  -0.288290  -0.617039   \n",
      "1 -2.029452  0.964074  -0.469482  ...  -0.208419  -0.989185  -0.173530   \n",
      "2 -0.461494  0.746139  -0.350536  ...  -0.276586   0.091389  -0.287320   \n",
      "3 -2.152585 -1.010873  -0.375331  ...   1.947300   1.080843  -0.341218   \n",
      "4 -0.676741  0.512838  -0.714742  ...  -0.842112  -0.615818  -1.171144   \n",
      "\n",
      "   feature31  feature32  feature33  feature34  label  feature2  \\\n",
      "0   0.122937  -1.055054  -0.312221  -0.999595      1         0   \n",
      "1  -0.909063  -0.115213  -0.932605  -0.083286      0         0   \n",
      "2   0.441318  -0.464092   0.404443  -0.848591      1         0   \n",
      "3  -0.167687   1.957315  -1.289826   2.107299      0         0   \n",
      "4  -0.717726  -1.154227  -0.757673  -1.435736      1         0   \n",
      "\n",
      "   interaction_feature  \n",
      "0                    0  \n",
      "1                    0  \n",
      "2                    0  \n",
      "3                    0  \n",
      "4                    0  \n",
      "\n",
      "[5 rows x 37 columns]\n"
     ]
    }
   ],
   "source": [
    "#Feature Engineering\n",
    "# Identify numerical and categorical features\n",
    "numerical_features = df_original.select_dtypes(include=['float64']).columns\n",
    "categorical_features = df_original.select_dtypes(include=['object']).columns\n",
    "\n",
    "# Feature Scaling\n",
    "from sklearn.preprocessing import StandardScaler\n",
    "\n",
    "scaler = StandardScaler()\n",
    "df_original[numerical_features] = scaler.fit_transform(df_original[numerical_features])\n",
    "\n",
    "# One-Hot Encoding for Categorical Features\n",
    "df_original = pd.get_dummies(df_original, columns=categorical_features)\n",
    "\n",
    "# Creating Interaction Terms\n",
    "df_original['interaction_feature'] = df_original['feature1'] * df_original['feature2']\n",
    "\n",
    "# Polynomial Features\n",
    "from sklearn.preprocessing import PolynomialFeatures\n",
    "\n",
    "poly = PolynomialFeatures(degree=2)\n",
    "df_original_poly = poly.fit_transform(df_original[numerical_features])\n",
    "\n",
    "# Display the updated dataframe\n",
    "print(df_original.head())\n"
   ]
  },
  {
   "cell_type": "code",
   "execution_count": 8,
   "id": "71b0f40c",
   "metadata": {},
   "outputs": [
    {
     "data": {
      "image/png": "[encoded data removed]",
      "text/plain": [
       "<Figure size 800x600 with 1 Axes>"
      ]
     },
     "metadata": {},
     "output_type": "display_data"
    }
   ],
   "source": [
    "#Model Selection\n",
    "\n",
    "# Separate features and labels\n",
    "X = df_original.drop('label', axis=1)\n",
    "y = df_original['label']\n",
    "\n",
    "# Split the data into training and testing sets\n",
    "X_train, X_test, y_train, y_test = train_test_split(X, y, test_size=0.2, random_state=42)\n",
    "\n",
    "# Initialize the logistic regression model\n",
    "model = LogisticRegression()\n",
    "\n",
    "# Train the model\n",
    "model.fit(X_train, y_train)\n",
    "\n",
    "# Predict probabilities on the test set\n",
    "y_prob = model.predict_proba(X_test)[:, 1]\n",
    "\n",
    "# Compute ROC curve and ROC area for each class\n",
    "fpr, tpr, _ = roc_curve(y_test, y_prob)\n",
    "roc_auc = auc(fpr, tpr)\n",
    "\n",
    "# Plot ROC curve\n",
    "plt.figure(figsize=(8, 6))\n",
    "plt.plot(fpr, tpr, color='darkorange', lw=2, label='ROC curve (area = {:.2f})'.format(roc_auc))\n",
    "plt.plot([0, 1], [0, 1], color='navy', lw=2, linestyle='--')\n",
    "plt.xlabel('False Positive Rate')\n",
    "plt.ylabel('True Positive Rate')\n",
    "plt.title('Receiver Operating Characteristic (ROC) Curve')\n",
    "plt.legend(loc='lower right')\n",
    "plt.show()\n",
    "\n",
    "   "
   ]
  },
  {
   "cell_type": "code",
   "execution_count": 10,
   "id": "303740f7",
   "metadata": {},
   "outputs": [
    {
     "name": "stdout",
     "output_type": "stream",
     "text": [
      "Accuracy: 0.8592\n",
      "Precision: 0.8113\n",
      "Recall: 1.0000\n",
      "F1 Score: 0.8958\n"
     ]
    }
   ],
   "source": [
    "#Training and Evaluation\n",
    "\n",
    "# Import necessary libraries\n",
    "from sklearn.model_selection import train_test_split\n",
    "from sklearn.metrics import accuracy_score, precision_score, recall_score, f1_score\n",
    "\n",
    "# Define features (X) and target variable (y)\n",
    "X = df_original.drop('label', axis=1)\n",
    "y = df_original['label']\n",
    "\n",
    "# Split the data into training and testing sets\n",
    "X_train, X_test, y_train, y_test = train_test_split(X, y, test_size=0.2, random_state=42)\n",
    "\n",
    "# Train the model \n",
    "# Example for logistic regression:\n",
    "from sklearn.linear_model import LogisticRegression\n",
    "model = LogisticRegression(random_state=42)\n",
    "model.fit(X_train, y_train)\n",
    "\n",
    "# Make predictions on the test set\n",
    "y_pred = model.predict(X_test)\n",
    "\n",
    "# Evaluate the model\n",
    "accuracy = accuracy_score(y_test, y_pred)\n",
    "precision = precision_score(y_test, y_pred)\n",
    "recall = recall_score(y_test, y_pred)\n",
    "f1 = f1_score(y_test, y_pred)\n",
    "\n",
    "# Display the evaluation metrics\n",
    "print(f\"Accuracy: {accuracy:.4f}\")\n",
    "print(f\"Precision: {precision:.4f}\")\n",
    "print(f\"Recall: {recall:.4f}\")\n",
    "print(f\"F1 Score: {f1:.4f}\")\n"
   ]
  },
  {
   "cell_type": "code",
   "execution_count": 13,
   "id": "bf648005",
   "metadata": {},
   "outputs": [
    {
     "name": "stdout",
     "output_type": "stream",
     "text": [
      "Accuracy: 0.8732\n",
      "Precision: 0.8400\n",
      "Recall: 0.9767\n",
      "F1 Score: 0.9032\n"
     ]
    }
   ],
   "source": [
    "# Import necessary libraries\n",
    "from sklearn.model_selection import train_test_split\n",
    "from sklearn.metrics import accuracy_score, precision_score, recall_score, f1_score\n",
    "\n",
    "# Define features (X) and target variable (y)\n",
    "X = df_original.drop('label', axis=1)\n",
    "y = df_original['label']\n",
    "\n",
    "# Split the data into training and testing sets\n",
    "X_train, X_test, y_train, y_test = train_test_split(X, y, test_size=0.2, random_state=42)\n",
    "\n",
    "# Train the model \n",
    "# Decision Trees:\n",
    "from sklearn.tree import DecisionTreeClassifier\n",
    "model = DecisionTreeClassifier(random_state=42)\n",
    "\n",
    "model.fit(X_train, y_train)\n",
    "\n",
    "# Make predictions on the test set\n",
    "y_pred = model.predict(X_test)\n",
    "\n",
    "# Evaluate the model\n",
    "accuracy = accuracy_score(y_test, y_pred)\n",
    "precision = precision_score(y_test, y_pred)\n",
    "recall = recall_score(y_test, y_pred)\n",
    "f1 = f1_score(y_test, y_pred)\n",
    "\n",
    "# Display the evaluation metrics\n",
    "print(f\"Accuracy: {accuracy:.4f}\")\n",
    "print(f\"Precision: {precision:.4f}\")\n",
    "print(f\"Recall: {recall:.4f}\")\n",
    "print(f\"F1 Score: {f1:.4f}\")\n"
   ]
  },
  {
   "cell_type": "code",
   "execution_count": 14,
   "id": "a7f786c2",
   "metadata": {},
   "outputs": [
    {
     "name": "stdout",
     "output_type": "stream",
     "text": [
      "Accuracy: 0.9296\n",
      "Precision: 0.9130\n",
      "Recall: 0.9767\n",
      "F1 Score: 0.9438\n"
     ]
    }
   ],
   "source": [
    "# Import necessary libraries\n",
    "from sklearn.model_selection import train_test_split\n",
    "from sklearn.metrics import accuracy_score, precision_score, recall_score, f1_score\n",
    "\n",
    "# Define features (X) and target variable (y)\n",
    "X = df_original.drop('label', axis=1)\n",
    "y = df_original['label']\n",
    "\n",
    "# Split the data into training and testing sets\n",
    "X_train, X_test, y_train, y_test = train_test_split(X, y, test_size=0.2, random_state=42)\n",
    "\n",
    "# Train the model \n",
    "# Random Forest\n",
    "from sklearn.ensemble import RandomForestClassifier\n",
    "model = RandomForestClassifier(random_state=42)\n",
    "\n",
    "model.fit(X_train, y_train)\n",
    "\n",
    "# Make predictions on the test set\n",
    "y_pred = model.predict(X_test)\n",
    "\n",
    "# Evaluate the model\n",
    "accuracy = accuracy_score(y_test, y_pred)\n",
    "precision = precision_score(y_test, y_pred)\n",
    "recall = recall_score(y_test, y_pred)\n",
    "f1 = f1_score(y_test, y_pred)\n",
    "\n",
    "# Display the evaluation metrics\n",
    "print(f\"Accuracy: {accuracy:.4f}\")\n",
    "print(f\"Precision: {precision:.4f}\")\n",
    "print(f\"Recall: {recall:.4f}\")\n",
    "print(f\"F1 Score: {f1:.4f}\")\n"
   ]
  },
  {
   "cell_type": "code",
   "execution_count": 15,
   "id": "3282ead7",
   "metadata": {},
   "outputs": [
    {
     "name": "stdout",
     "output_type": "stream",
     "text": [
      "Accuracy: 0.6056\n",
      "Precision: 0.6056\n",
      "Recall: 1.0000\n",
      "F1 Score: 0.7544\n"
     ]
    }
   ],
   "source": [
    "# Import necessary libraries\n",
    "from sklearn.model_selection import train_test_split\n",
    "from sklearn.metrics import accuracy_score, precision_score, recall_score, f1_score\n",
    "\n",
    "# Define features (X) and target variable (y)\n",
    "X = df_original.drop('label', axis=1)\n",
    "y = df_original['label']\n",
    "\n",
    "# Split the data into training and testing sets\n",
    "X_train, X_test, y_train, y_test = train_test_split(X, y, test_size=0.2, random_state=42)\n",
    "\n",
    "# Train the model \n",
    "# Support Vector Machines (SVM)\n",
    "from sklearn.svm import SVC\n",
    "model = SVC(random_state=42)\n",
    "\n",
    "model.fit(X_train, y_train)\n",
    "\n",
    "# Make predictions on the test set\n",
    "y_pred = model.predict(X_test)\n",
    "\n",
    "# Evaluate the model\n",
    "accuracy = accuracy_score(y_test, y_pred)\n",
    "precision = precision_score(y_test, y_pred)\n",
    "recall = recall_score(y_test, y_pred)\n",
    "f1 = f1_score(y_test, y_pred)\n",
    "\n",
    "# Display the evaluation metrics\n",
    "print(f\"Accuracy: {accuracy:.4f}\")\n",
    "print(f\"Precision: {precision:.4f}\")\n",
    "print(f\"Recall: {recall:.4f}\")\n",
    "print(f\"F1 Score: {f1:.4f}\")\n"
   ]
  },
  {
   "cell_type": "code",
   "execution_count": 18,
   "id": "aa649e90",
   "metadata": {},
   "outputs": [
    {
     "name": "stdout",
     "output_type": "stream",
     "text": [
      "Accuracy: 0.6056\n",
      "Precision: 0.6316\n",
      "Recall: 0.8372\n",
      "F1 Score: 0.7200\n"
     ]
    }
   ],
   "source": [
    "# Import necessary libraries\n",
    "from sklearn.model_selection import train_test_split\n",
    "from sklearn.metrics import accuracy_score, precision_score, recall_score, f1_score\n",
    "from sklearn.neighbors import KNeighborsClassifier\n",
    "\n",
    "# Define features (X) and target variable (y)\n",
    "X = df_original.drop('label', axis=1)\n",
    "y = df_original['label']\n",
    "\n",
    "# Split the data into training and testing sets\n",
    "X_train, X_test, y_train, y_test = train_test_split(X, y, test_size=0.2, random_state=42)\n",
    "\n",
    "# Convert the data to NumPy arrays\n",
    "X_train_np = X_train.values\n",
    "X_test_np = X_test.values\n",
    "\n",
    "# Train the model \n",
    "# K-Nearest Neighbors (KNN)\n",
    "model = KNeighborsClassifier()\n",
    "\n",
    "model.fit(X_train_np, y_train)\n",
    "\n",
    "# Make predictions on the test set\n",
    "y_pred = model.predict(X_test_np)\n",
    "\n",
    "# Evaluate the model\n",
    "accuracy = accuracy_score(y_test, y_pred)\n",
    "precision = precision_score(y_test, y_pred)\n",
    "recall = recall_score(y_test, y_pred)\n",
    "f1 = f1_score(y_test, y_pred)\n",
    "\n",
    "# Display the evaluation metrics\n",
    "print(f\"Accuracy: {accuracy:.4f}\")\n",
    "print(f\"Precision: {precision:.4f}\")\n",
    "print(f\"Recall: {recall:.4f}\")\n",
    "print(f\"F1 Score: {f1:.4f}\")\n"
   ]
  },
  {
   "cell_type": "code",
   "execution_count": 19,
   "id": "bd1d24cd",
   "metadata": {},
   "outputs": [
    {
     "name": "stdout",
     "output_type": "stream",
     "text": [
      "Accuracy: 0.9437\n",
      "Precision: 0.9333\n",
      "Recall: 0.9767\n",
      "F1 Score: 0.9545\n"
     ]
    }
   ],
   "source": [
    "# Import necessary libraries\n",
    "from sklearn.model_selection import train_test_split\n",
    "from sklearn.metrics import accuracy_score, precision_score, recall_score, f1_score\n",
    "\n",
    "# Define features (X) and target variable (y)\n",
    "X = df_original.drop('label', axis=1)\n",
    "y = df_original['label']\n",
    "\n",
    "# Split the data into training and testing sets\n",
    "X_train, X_test, y_train, y_test = train_test_split(X, y, test_size=0.2, random_state=42)\n",
    "\n",
    "# Train the model \n",
    "#Gradient Boosting\n",
    "from sklearn.ensemble import GradientBoostingClassifier\n",
    "model = GradientBoostingClassifier(random_state=42)\n",
    "\n",
    "model.fit(X_train, y_train)\n",
    "\n",
    "# Make predictions on the test set\n",
    "y_pred = model.predict(X_test)\n",
    "\n",
    "# Evaluate the model\n",
    "accuracy = accuracy_score(y_test, y_pred)\n",
    "precision = precision_score(y_test, y_pred)\n",
    "recall = recall_score(y_test, y_pred)\n",
    "f1 = f1_score(y_test, y_pred)\n",
    "\n",
    "# Display the evaluation metrics\n",
    "print(f\"Accuracy: {accuracy:.4f}\")\n",
    "print(f\"Precision: {precision:.4f}\")\n",
    "print(f\"Recall: {recall:.4f}\")\n",
    "print(f\"F1 Score: {f1:.4f}\")\n"
   ]
  },
  {
   "cell_type": "code",
   "execution_count": 20,
   "id": "9c88da4e",
   "metadata": {},
   "outputs": [
    {
     "name": "stdout",
     "output_type": "stream",
     "text": [
      "Best Hyperparameters: {'C': 0.1}\n"
     ]
    }
   ],
   "source": [
    "#Hyperparameter Tuning\n",
    "\n",
    "from sklearn.model_selection import GridSearchCV\n",
    "\n",
    "# Define the parameter grid\n",
    "param_grid = {'C': [0.001, 0.01, 0.1, 1, 10, 100]}\n",
    "\n",
    "# Create the logistic regression model\n",
    "logistic_regression_model = LogisticRegression()\n",
    "\n",
    "# Create the GridSearchCV object\n",
    "grid_search = GridSearchCV(logistic_regression_model, param_grid, cv=5, scoring='accuracy')\n",
    "\n",
    "# Fit the GridSearchCV object to the data\n",
    "grid_search.fit(X_train, y_train)\n",
    "\n",
    "# Print the best hyperparameters\n",
    "print(\"Best Hyperparameters:\", grid_search.best_params_)\n"
   ]
  },
  {
   "cell_type": "code",
   "execution_count": 21,
   "id": "706602fa",
   "metadata": {},
   "outputs": [
    {
     "name": "stdout",
     "output_type": "stream",
     "text": [
      "Accuracy: 0.8732\n",
      "Precision: 0.8400\n",
      "Recall: 0.9767\n",
      "F1 Score: 0.9032\n"
     ]
    }
   ],
   "source": [
    "# Import necessary libraries\n",
    "from sklearn.model_selection import train_test_split\n",
    "from sklearn.metrics import accuracy_score, precision_score, recall_score, f1_score\n",
    "\n",
    "# Define features (X) and target variable (y)\n",
    "X = df_original.drop('label', axis=1)\n",
    "y = df_original['label']\n",
    "\n",
    "# Split the data into training and testing sets\n",
    "X_train, X_test, y_train, y_test = train_test_split(X, y, test_size=0.2, random_state=42)\n",
    "\n",
    "# Create the logistic regression model with the best hyperparameters\n",
    "best_logistic_regression_model = LogisticRegression(C=0.1)\n",
    "\n",
    "# Train the model on the training set\n",
    "best_logistic_regression_model.fit(X_train, y_train)\n",
    "\n",
    "# Make predictions on the test set\n",
    "y_pred = best_logistic_regression_model.predict(X_test)\n",
    "\n",
    "# Evaluate the model\n",
    "accuracy = accuracy_score(y_test, y_pred)\n",
    "precision = precision_score(y_test, y_pred)\n",
    "recall = recall_score(y_test, y_pred)\n",
    "f1 = f1_score(y_test, y_pred)\n",
    "\n",
    "# Display the evaluation metrics\n",
    "print(f\"Accuracy: {accuracy:.4f}\")\n",
    "print(f\"Precision: {precision:.4f}\")\n",
    "print(f\"Recall: {recall:.4f}\")\n",
    "print(f\"F1 Score: {f1:.4f}\")\n"
   ]
  },
  {
   "cell_type": "code",
   "execution_count": 22,
   "id": "cd05ec72",
   "metadata": {},
   "outputs": [
    {
     "name": "stdout",
     "output_type": "stream",
     "text": [
      "Cross-Validation Accuracy: 0.8574 +/- 0.0407\n"
     ]
    }
   ],
   "source": [
    "#Validation and Cross-Validation\n",
    "\n",
    "from sklearn.model_selection import cross_val_score, StratifiedKFold\n",
    "\n",
    "# Train the model \n",
    "# Logistic Regression:\n",
    "from sklearn.linear_model import LogisticRegression\n",
    "model = LogisticRegression()\n",
    "\n",
    "# Define the features (X) and target variable (y)\n",
    "X = df_original.drop('label', axis=1)\n",
    "y = df_original['label']\n",
    "\n",
    "# Specify the number of folds for cross-validation (e.g., 5 or 10)\n",
    "num_folds = 5\n",
    "\n",
    "# Create a StratifiedKFold object for maintaining class distribution in each fold\n",
    "stratified_kfold = StratifiedKFold(n_splits=num_folds, shuffle=True, random_state=42)\n",
    "\n",
    "# Perform cross-validation\n",
    "cv_results = cross_val_score(model, X, y, cv=stratified_kfold, scoring='accuracy')\n",
    "\n",
    "# Display the cross-validation results\n",
    "print(f'Cross-Validation Accuracy: {cv_results.mean():.4f} +/- {cv_results.std():.4f}')\n"
   ]
  },
  {
   "cell_type": "code",
   "execution_count": null,
   "id": "e2fa4de4",
   "metadata": {},
   "outputs": [],
   "source": []
  }
 ],
 "metadata": {
  "kernelspec": {
   "display_name": "Python 3 (ipykernel)",
   "language": "python",
   "name": "python3"
  },
  "language_info": {
   "codemirror_mode": {
    "name": "ipython",
    "version": 3
   },
   "file_extension": ".py",
   "mimetype": "text/x-python",
   "name": "python",
   "nbconvert_exporter": "python",
   "pygments_lexer": "ipython3",
   "version": "3.10.13"
  }
 },
 "nbformat": 4,
 "nbformat_minor": 5
}
